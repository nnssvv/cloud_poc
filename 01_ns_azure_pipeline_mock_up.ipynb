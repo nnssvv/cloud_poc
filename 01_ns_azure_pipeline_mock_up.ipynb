{
 "cells": [
  {
   "cell_type": "markdown",
   "metadata": {},
   "source": [
    "# Azure Document Intelligence: Pilot Pipeline for Key Metric Extraction"
   ]
  },
  {
   "cell_type": "code",
   "execution_count": 22,
   "metadata": {},
   "outputs": [],
   "source": [
    "import configparser"
   ]
  },
  {
   "cell_type": "code",
   "execution_count": 23,
   "metadata": {},
   "outputs": [],
   "source": [
    "# Load credentials\n",
    "config = configparser.ConfigParser(interpolation = None)\n",
    "config.read('config.ini')\n",
    "\n",
    "doc_endpoint = config['docintel']['endpoint']\n",
    "doc_key = config['docintel']['key']\n",
    "connection_str = config['storage']['connection_string']\n",
    "storage_key = config['storage']['key']"
   ]
  },
  {
   "cell_type": "markdown",
   "metadata": {},
   "source": [
    "### 1) Uploading PDFs to a container in a blob storage"
   ]
  },
  {
   "cell_type": "code",
   "execution_count": 24,
   "metadata": {},
   "outputs": [],
   "source": [
    "# Libraries\n",
    "from azure.storage.blob import BlobServiceClient, BlobClient, ContainerClient\n",
    "import os"
   ]
  },
  {
   "cell_type": "code",
   "execution_count": 19,
   "metadata": {},
   "outputs": [],
   "source": [
    "# Folder with test quarterly Citibank documents\n",
    "file_path = \"test_docs/\""
   ]
  },
  {
   "cell_type": "code",
   "execution_count": 20,
   "metadata": {},
   "outputs": [
    {
     "name": "stdout",
     "output_type": "stream",
     "text": [
      "Container 'test-container' created successfully.\n"
     ]
    }
   ],
   "source": [
    "# Create the BlobServiceClient object\n",
    "blob_service_client = BlobServiceClient.from_connection_string(connection_str)\n",
    "\n",
    "# Create the container if not already in blob\n",
    "try:\n",
    "    # Attempt to create a container named 'test-container'\n",
    "    container_client = blob_service_client.create_container(\"test-container\")\n",
    "    print(\"Container 'test-container' created successfully.\")\n",
    "except Exception as e:\n",
    "    # Handle exceptions that occur during container creation\n",
    "    print(f\"Failed to create container: {e}\")"
   ]
  },
  {
   "cell_type": "code",
   "execution_count": 21,
   "metadata": {},
   "outputs": [
    {
     "name": "stdout",
     "output_type": "stream",
     "text": [
      "Uploading to Azure Storage as blob: 1Q18.pdf\n",
      "Uploading to Azure Storage as blob: 1Q19.pdf\n",
      "Uploading to Azure Storage as blob: 1Q20.pdf\n",
      "Uploading to Azure Storage as blob: 1Q21.pdf\n",
      "Uploading to Azure Storage as blob: 1Q22.pdf\n",
      "Uploading to Azure Storage as blob: 1Q23.pdf\n",
      "Uploading to Azure Storage as blob: 2Q18.pdf\n",
      "Uploading to Azure Storage as blob: 2Q19.pdf\n",
      "Uploading to Azure Storage as blob: 2Q20.pdf\n",
      "Uploading to Azure Storage as blob: 2Q21.pdf\n",
      "Uploading to Azure Storage as blob: 2Q22.pdf\n",
      "Uploading to Azure Storage as blob: 2Q23.pdf\n",
      "Uploading to Azure Storage as blob: 3Q18.pdf\n",
      "Uploading to Azure Storage as blob: 3Q19.pdf\n",
      "Uploading to Azure Storage as blob: 3Q20.pdf\n",
      "Uploading to Azure Storage as blob: 3Q21.pdf\n",
      "Uploading to Azure Storage as blob: 3Q22.pdf\n",
      "Uploading to Azure Storage as blob: 3Q23.pdf\n",
      "Uploading to Azure Storage as blob: 4Q18.pdf\n",
      "Uploading to Azure Storage as blob: 4Q19.pdf\n",
      "Uploading to Azure Storage as blob: 4Q20.pdf\n",
      "Uploading to Azure Storage as blob: 4Q21.pdf\n",
      "Uploading to Azure Storage as blob: 4Q22.pdf\n"
     ]
    }
   ],
   "source": [
    "# Upload every pdf file in the directory\n",
    "for filename in os.listdir(file_path):\n",
    "    file_dir = os.path.join(file_path, filename)\n",
    "\n",
    "    # Create a blob client using the local file name as the name for the blob\n",
    "    blob_client = blob_service_client.get_blob_client(container=\"test-container\", blob=filename)\n",
    "    print(\"Uploading to Azure Storage as blob: \" + filename)\n",
    "\n",
    "    # Upload the created file\n",
    "    with open(file=file_dir, mode=\"rb\") as data:\n",
    "        blob_client.upload_blob(data)\n",
    "    "
   ]
  },
  {
   "cell_type": "markdown",
   "metadata": {},
   "source": [
    "### 2) Running Custom Document Intelligence Model on New PDFs in Blob"
   ]
  },
  {
   "cell_type": "code",
   "execution_count": 36,
   "metadata": {},
   "outputs": [],
   "source": [
    "# Libraries\n",
    "from azure.core.credentials import AzureKeyCredential\n",
    "from azure.ai.formrecognizer import DocumentAnalysisClient, AnalyzeResult\n",
    "from azure.core.serialization import AzureJSONEncoder\n",
    "import json"
   ]
  },
  {
   "cell_type": "code",
   "execution_count": 27,
   "metadata": {},
   "outputs": [
    {
     "name": "stdout",
     "output_type": "stream",
     "text": [
      "\n",
      "Listing blobs...\n",
      " 1Q18.pdf\n",
      " 1Q18.pdf.labels.json\n",
      " 1Q18.pdf.ocr.json\n",
      " 1Q19.pdf\n",
      " 1Q19.pdf.labels.json\n",
      " 1Q19.pdf.ocr.json\n",
      " 1Q20.pdf\n",
      " 1Q20.pdf.labels.json\n",
      " 1Q20.pdf.ocr.json\n",
      " 1Q21.pdf\n",
      " 1Q21.pdf.labels.json\n",
      " 1Q21.pdf.ocr.json\n",
      " 1Q22.pdf\n",
      " 1Q22.pdf.labels.json\n",
      " 1Q22.pdf.ocr.json\n",
      " 1Q23.pdf\n",
      " 2Q18.pdf\n",
      " 2Q19.pdf\n",
      " 2Q20.pdf\n",
      " 2Q21.pdf\n",
      " 2Q22.pdf\n",
      " 2Q23.pdf\n",
      " 3Q18.pdf\n",
      " 3Q19.pdf\n",
      " 3Q20.pdf\n",
      " 3Q21.pdf\n",
      " 3Q22.pdf\n",
      " 3Q23.pdf\n",
      " 4Q18.pdf\n",
      " 4Q19.pdf\n",
      " 4Q20.pdf\n",
      " 4Q21.pdf\n",
      " 4Q22.pdf\n",
      " fields.json\n"
     ]
    }
   ],
   "source": [
    "# Check content of test-container\n",
    "container_client = blob_service_client.get_container_client(container='test-container')\n",
    "\n",
    "# List the blobs in the container\n",
    "print(\"\\nListing blobs...\")\n",
    "\n",
    "# List the blobs in the container\n",
    "blob_list = container_client.list_blobs()\n",
    "for blob in blob_list:\n",
    "    print(\" \" + blob.name)"
   ]
  },
  {
   "cell_type": "code",
   "execution_count": 28,
   "metadata": {},
   "outputs": [],
   "source": [
    "# Download a blob in container to test with custom model\n",
    "blob = '3Q23.pdf'\n",
    "# Get the BlobClient for the specific blob\n",
    "blob_client = blob_service_client.get_container_client('test-container').get_blob_client(blob)\n",
    "# Download the blob content\n",
    "with open(f'{blob}', \"wb\") as download_file:\n",
    "    \n",
    "    download_file.write(blob_client.download_blob().readall())\n"
   ]
  },
  {
   "cell_type": "code",
   "execution_count": 39,
   "metadata": {},
   "outputs": [],
   "source": [
    "# Set custom model and target form\n",
    "model_id = \"citi_test_model\"\n",
    "form = open('3Q23.pdf', 'rb')\n",
    "\n",
    "document_analysis_client = DocumentAnalysisClient(\n",
    "    endpoint=doc_endpoint, credential=AzureKeyCredential(doc_key)\n",
    ")"
   ]
  },
  {
   "cell_type": "code",
   "execution_count": 40,
   "metadata": {},
   "outputs": [],
   "source": [
    "# Run custom model\n",
    "poller = document_analysis_client.begin_analyze_document(model_id, form)\n",
    "result = poller.result()\n"
   ]
  },
  {
   "cell_type": "code",
   "execution_count": 41,
   "metadata": {},
   "outputs": [],
   "source": [
    "# Result to dictionary\n",
    "result_dict = result.to_dict()\n",
    "\n",
    "with open(f'{filename}.json' , 'w') as f:\n",
    "    json.dump(result_dict, f, cls = AzureJSONEncoder)"
   ]
  },
  {
   "cell_type": "code",
   "execution_count": 48,
   "metadata": {},
   "outputs": [
    {
     "name": "stdout",
     "output_type": "stream",
     "text": [
      "--------Analyzing document #1--------\n",
      "Document has type citi_test_model\n",
      "Document has document type confidence 0.987\n",
      "Document was analyzed with model with ID citi_test_model\n",
      "......found field of type 'list' with value '[DocumentField(value_type=dictionary, value={'period': DocumentField(value_type=string, value='4Q 2021', content=4Q 2021, bounding_regions=[BoundingRegion(page_number=2, polygon=[Point(x=3.2465, y=0.5205), Point(x=3.4041, y=0.5205), Point(x=3.4041, y=0.6781), Point(x=3.2465, y=0.6781)])], spans=[DocumentSpan(offset=861, length=7)], confidence=None), 'total_revenues': DocumentField(value_type=string, value='17,017', content=17,017, bounding_regions=[BoundingRegion(page_number=2, polygon=[Point(x=3.2895, y=0.7545), Point(x=3.4948, y=0.7545), Point(x=3.4948, y=0.8309), Point(x=3.2895, y=0.8309)])], spans=[DocumentSpan(offset=1064, length=6)], confidence=None), 'cet1_ratio': DocumentField(value_type=string, value='12.25%', content=12.25%, bounding_regions=[BoundingRegion(page_number=2, polygon=[Point(x=3.2847, y=3.8966), Point(x=3.5187, y=3.8966), Point(x=3.5187, y=3.9778), Point(x=3.2847, y=3.9778)])], spans=[DocumentSpan(offset=3635, length=6)], confidence=None)}, content=None, bounding_regions=[], spans=[], confidence=None), DocumentField(value_type=dictionary, value={'period': DocumentField(value_type=string, value='1Q 2022', content=1Q 2022, bounding_regions=[BoundingRegion(page_number=2, polygon=[Point(x=3.7717, y=0.5205), Point(x=3.934, y=0.5205), Point(x=3.934, y=0.6781), Point(x=3.7717, y=0.6781)])], spans=[DocumentSpan(offset=869, length=7)], confidence=None), 'total_revenues': DocumentField(value_type=string, value='19,186', content=19,186, bounding_regions=[BoundingRegion(page_number=2, polygon=[Point(x=3.8338, y=0.7569), Point(x=4.0438, y=0.7545), Point(x=4.0447, y=0.8309), Point(x=3.8347, y=0.8333)])], spans=[DocumentSpan(offset=1073, length=6)], confidence=None), 'cet1_ratio': DocumentField(value_type=string, value='11.38%', content=11.38%, bounding_regions=[BoundingRegion(page_number=2, polygon=[Point(x=3.8385, y=3.9014), Point(x=4.0725, y=3.9014), Point(x=4.0725, y=3.973), Point(x=3.8385, y=3.973)])], spans=[DocumentSpan(offset=3642, length=6)], confidence=None)}, content=None, bounding_regions=[], spans=[], confidence=None), DocumentField(value_type=dictionary, value={'period': DocumentField(value_type=string, value='2Q 2022', content=2Q 2022, bounding_regions=[BoundingRegion(page_number=2, polygon=[Point(x=4.3016, y=0.5205), Point(x=4.4592, y=0.5205), Point(x=4.4592, y=0.6781), Point(x=4.3016, y=0.6781)])], spans=[DocumentSpan(offset=877, length=7)], confidence=None), 'total_revenues': DocumentField(value_type=string, value='19,638', content=19,638, bounding_regions=[BoundingRegion(page_number=2, polygon=[Point(x=4.3495, y=0.7544), Point(x=4.5595, y=0.7593), Point(x=4.5577, y=0.8358), Point(x=4.3477, y=0.8309)])], spans=[DocumentSpan(offset=1082, length=6)], confidence=None), 'cet1_ratio': DocumentField(value_type=string, value='11.90%', content=11.90%, bounding_regions=[BoundingRegion(page_number=2, polygon=[Point(x=4.3495, y=3.8967), Point(x=4.5849, y=3.9014), Point(x=4.5833, y=3.9778), Point(x=4.3479, y=3.973)])], spans=[DocumentSpan(offset=3649, length=6)], confidence=None)}, content=None, bounding_regions=[], spans=[], confidence=None), DocumentField(value_type=dictionary, value={'period': DocumentField(value_type=string, value='3Q 2022', content=3Q 2022, bounding_regions=[BoundingRegion(page_number=2, polygon=[Point(x=4.8316, y=0.5205), Point(x=4.9844, y=0.5205), Point(x=4.9844, y=0.6781), Point(x=4.8316, y=0.6781)])], spans=[DocumentSpan(offset=885, length=7)], confidence=None), 'total_revenues': DocumentField(value_type=string, value='18,508', content=18,508, bounding_regions=[BoundingRegion(page_number=2, polygon=[Point(x=4.8784, y=0.7569), Point(x=5.0846, y=0.7545), Point(x=5.0855, y=0.8309), Point(x=4.8793, y=0.8333)])], spans=[DocumentSpan(offset=1091, length=6)], confidence=None), 'cet1_ratio': DocumentField(value_type=string, value='12.29%', content=12.29%, bounding_regions=[BoundingRegion(page_number=2, polygon=[Point(x=4.8785, y=3.899), Point(x=5.1133, y=3.8966), Point(x=5.1141, y=3.973), Point(x=4.8793, y=3.9754)])], spans=[DocumentSpan(offset=3656, length=6)], confidence=None)}, content=None, bounding_regions=[], spans=[], confidence=None), DocumentField(value_type=dictionary, value={'period': DocumentField(value_type=string, value='4Q 2022', content=4Q 2022, bounding_regions=[BoundingRegion(page_number=2, polygon=[Point(x=5.3546, y=0.5175), Point(x=5.514, y=0.5222), Point(x=5.5094, y=0.6827), Point(x=5.3499, y=0.678)])], spans=[DocumentSpan(offset=893, length=7)], confidence=None), 'total_revenues': DocumentField(value_type=string, value='18,006 71,884 75,338', content=18,006\n",
      "71,884\n",
      "75,338, bounding_regions=[BoundingRegion(page_number=2, polygon=[Point(x=5.4001, y=0.7255), Point(x=8.0552, y=0.7545), Point(x=8.054, y=0.8625), Point(x=5.3989, y=0.8334)])], spans=[DocumentSpan(offset=1100, length=6), DocumentSpan(offset=1117, length=6), DocumentSpan(offset=1126, length=6)], confidence=None), 'cet1_ratio': DocumentField(value_type=string, value='13.0%', content=13.0%, bounding_regions=[BoundingRegion(page_number=2, polygon=[Point(x=5.4379, y=3.8966), Point(x=5.6241, y=3.8966), Point(x=5.6241, y=3.973), Point(x=5.4379, y=3.973)])], spans=[DocumentSpan(offset=3663, length=5)], confidence=None)}, content=None, bounding_regions=[], spans=[], confidence=None)]' and with confidence None\n"
     ]
    }
   ],
   "source": [
    "for idx, document in enumerate(result.documents):\n",
    "        print(f\"--------Analyzing document #{idx + 1}--------\")\n",
    "        print(f\"Document has type {document.doc_type}\")\n",
    "        print(f\"Document has document type confidence {document.confidence}\")\n",
    "        print(f\"Document was analyzed with model with ID {result.model_id}\")\n",
    "        for name, field in document.fields.items():\n",
    "            field_value = field.value if field.value else field.content\n",
    "            print(\n",
    "                f\"......found field of type '{field.value_type}' with value '{field_value}' and with confidence {field.confidence}\"\n",
    "            )"
   ]
  }
 ],
 "metadata": {
  "kernelspec": {
   "display_name": "cloud_poc",
   "language": "python",
   "name": "python3"
  },
  "language_info": {
   "codemirror_mode": {
    "name": "ipython",
    "version": 3
   },
   "file_extension": ".py",
   "mimetype": "text/x-python",
   "name": "python",
   "nbconvert_exporter": "python",
   "pygments_lexer": "ipython3",
   "version": "3.8.0"
  }
 },
 "nbformat": 4,
 "nbformat_minor": 2
}
